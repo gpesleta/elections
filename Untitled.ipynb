{
 "cells": [
  {
   "cell_type": "code",
   "execution_count": 1,
   "metadata": {},
   "outputs": [
    {
     "data": {
      "text/html": [
       "<link href='https://fonts.googleapis.com/css?family=Roboto' rel='stylesheet'>\n",
       "<style>\n",
       "body {\n",
       "    font-family: 'Roboto', 'Helvetica', sans-serif; \n",
       "    font-size: 16px;\n",
       "}\n",
       "</style>\n"
      ],
      "text/plain": [
       "<IPython.core.display.HTML object>"
      ]
     },
     "metadata": {},
     "output_type": "display_data"
    }
   ],
   "source": [
    "%%html\n",
    "<link href='https://fonts.googleapis.com/css?family=Roboto' rel='stylesheet'>\n",
    "<style>\n",
    "body {\n",
    "    font-family: 'Roboto', 'Helvetica', sans-serif; \n",
    "    font-size: 16px;\n",
    "}\n",
    "</style>"
   ]
  },
  {
   "cell_type": "markdown",
   "metadata": {},
   "source": [
    "<div style=\"background-color: #2b3237; padding-top: 20px;\n",
    "  padding-right: 30px;\n",
    "  padding-bottom: 10px;\n",
    "  padding-left: 30px; width: 100%; display: flex\">\n",
    "\n",
    "<div style=\"background-color: ##2b3237; padding-top: 20px;\n",
    "  padding-right: 30px;\n",
    "  padding-bottom: 10px;\n",
    "  padding-left: 30px; width: 90%\">\n",
    "\n",
    "<p><font color=#ffffff size=70> 2016 Philippine Elections </font></p>\n",
    "<p><font color=#ffffff> Lorem ipsum </font></p></span>\n",
    "\n",
    "</div>\n",
    "</div>\n",
    "\n",
    "<div style=\"background-color: #425564; padding-top: 20px;\n",
    "  padding-right: 15px;\n",
    "  padding-bottom: 20px;\n",
    "  padding-left: 15px\">\n",
    "<font color=#ffffff> George Allan Esleta (gesleta@aim.edu) </font>\n",
    "</div>"
   ]
  },
  {
   "cell_type": "markdown",
   "metadata": {},
   "source": [
    "<div style=\"background-color: #eeeeee; padding-top: 30px;\n",
    "  padding-right: 30px;\n",
    "  padding-bottom: 20px;\n",
    "  padding-left: 30px; width: 100%\">\n",
    "\n",
    "\n",
    "\n",
    "</div>"
   ]
  },
  {
   "cell_type": "code",
   "execution_count": 4,
   "metadata": {
    "scrolled": true
   },
   "outputs": [
    {
     "data": {
      "text/html": [
       "<script>\n",
       "code_show=true; \n",
       "function code_toggle() {\n",
       " if (code_show){\n",
       " $('div.input').hide();\n",
       " } else {\n",
       " $('div.input').show();\n",
       " }\n",
       " code_show = !code_show\n",
       "} \n",
       "$( document ).ready(code_toggle);\n",
       "</script>\n",
       "<form action=\"javascript:code_toggle()\"><input type=\"submit\" value=\"Click here to toggle on/off the raw code.\"></form>"
      ],
      "text/plain": [
       "<IPython.core.display.HTML object>"
      ]
     },
     "execution_count": 4,
     "metadata": {},
     "output_type": "execute_result"
    }
   ],
   "source": [
    "import numpy as np\n",
    "import pandas as pd\n",
    "import matplotlib.pyplot as plt\n",
    "import seaborn as sns\n",
    "from IPython.display import HTML\n",
    "\n",
    "HTML('''<script>\n",
    "code_show=true; \n",
    "function code_toggle() {\n",
    " if (code_show){\n",
    " $('div.input').hide();\n",
    " } else {\n",
    " $('div.input').show();\n",
    " }\n",
    " code_show = !code_show\n",
    "} \n",
    "$( document ).ready(code_toggle);\n",
    "</script>\n",
    "<form action=\"javascript:code_toggle()\"><input type=\"submit\" value=\"Click here to toggle on/off the raw code.\"></form>''')"
   ]
  },
  {
   "cell_type": "markdown",
   "metadata": {},
   "source": [
    "<div><span style=\"background-color: #425564; padding-top: 100px; padding-right: 20px; padding-bottom: 50px; padding-left: 20px; color: #ffffff; font-size: 20px; font-weight: bold\">TASK </span></div>"
   ]
  },
  {
   "cell_type": "markdown",
   "metadata": {},
   "source": [
    "1.\tCreate a denormalized table replacing `precinct_code` in the `results_*.csv` files with the columns: region, province, municipality, and barangay. \n",
    "2.\tCreate an interesting data visualization using this dataset."
   ]
  },
  {
   "cell_type": "markdown",
   "metadata": {},
   "source": [
    "<div><span style=\"background-color: #425564; padding-top: 100px; padding-right: 20px; padding-bottom: 50px; padding-left: 20px; color: #ffffff; font-size: 20px; font-weight: bold\">DATA </span></div>"
   ]
  },
  {
   "cell_type": "markdown",
   "metadata": {},
   "source": [
    "- `ref_table_precinct_locations_PSGC.csv` – lookup table for precincts\n",
    "- `results_president.csv` – precinct-level election results for the 2016 presidential race\n",
    "- `results_vice-president.csv` – precinct-level election results for the 2016 vice presidential race"
   ]
  },
  {
   "cell_type": "markdown",
   "metadata": {},
   "source": [
    "Workflow:\n",
    "1. Load precinct data\n",
    "2. Check data columns\n",
    "3. Check for missing/ null values"
   ]
  },
  {
   "cell_type": "markdown",
   "metadata": {},
   "source": [
    "### 1. Load precint data"
   ]
  },
  {
   "cell_type": "code",
   "execution_count": 8,
   "metadata": {},
   "outputs": [],
   "source": [
    "df_precinct = pd.read_csv('Datasets/ref_table_precinct_locations_PSGC.csv') "
   ]
  },
  {
   "cell_type": "code",
   "execution_count": 9,
   "metadata": {},
   "outputs": [
    {
     "data": {
      "text/html": [
       "<div>\n",
       "<style scoped>\n",
       "    .dataframe tbody tr th:only-of-type {\n",
       "        vertical-align: middle;\n",
       "    }\n",
       "\n",
       "    .dataframe tbody tr th {\n",
       "        vertical-align: top;\n",
       "    }\n",
       "\n",
       "    .dataframe thead th {\n",
       "        text-align: right;\n",
       "    }\n",
       "</style>\n",
       "<table border=\"1\" class=\"dataframe\">\n",
       "  <thead>\n",
       "    <tr style=\"text-align: right;\">\n",
       "      <th></th>\n",
       "      <th>Unnamed: 0</th>\n",
       "      <th>precinct_code</th>\n",
       "      <th>region</th>\n",
       "      <th>province</th>\n",
       "      <th>municipality</th>\n",
       "      <th>barangay</th>\n",
       "      <th>registered_voters</th>\n",
       "      <th>ballots_cast</th>\n",
       "      <th>PSGC_CM</th>\n",
       "      <th>is_city</th>\n",
       "      <th>income_class</th>\n",
       "      <th>population</th>\n",
       "      <th>land_area</th>\n",
       "      <th>province_CM</th>\n",
       "      <th>municipality_CM</th>\n",
       "    </tr>\n",
       "  </thead>\n",
       "  <tbody>\n",
       "    <tr>\n",
       "      <th>0</th>\n",
       "      <td>0</td>\n",
       "      <td>55170026</td>\n",
       "      <td>REGION I</td>\n",
       "      <td>PANGASINAN</td>\n",
       "      <td>CALASIAO</td>\n",
       "      <td>BUENLAG</td>\n",
       "      <td>592</td>\n",
       "      <td>503</td>\n",
       "      <td>15517000</td>\n",
       "      <td>0.0</td>\n",
       "      <td>1st</td>\n",
       "      <td>91109.0</td>\n",
       "      <td>4836.0</td>\n",
       "      <td>PANGASINAN</td>\n",
       "      <td>CALASIAO</td>\n",
       "    </tr>\n",
       "    <tr>\n",
       "      <th>1</th>\n",
       "      <td>1</td>\n",
       "      <td>55170027</td>\n",
       "      <td>REGION I</td>\n",
       "      <td>PANGASINAN</td>\n",
       "      <td>CALASIAO</td>\n",
       "      <td>BUENLAG</td>\n",
       "      <td>526</td>\n",
       "      <td>458</td>\n",
       "      <td>15517000</td>\n",
       "      <td>0.0</td>\n",
       "      <td>1st</td>\n",
       "      <td>91109.0</td>\n",
       "      <td>4836.0</td>\n",
       "      <td>PANGASINAN</td>\n",
       "      <td>CALASIAO</td>\n",
       "    </tr>\n",
       "    <tr>\n",
       "      <th>2</th>\n",
       "      <td>2</td>\n",
       "      <td>55170023</td>\n",
       "      <td>REGION I</td>\n",
       "      <td>PANGASINAN</td>\n",
       "      <td>CALASIAO</td>\n",
       "      <td>BUENLAG</td>\n",
       "      <td>723</td>\n",
       "      <td>649</td>\n",
       "      <td>15517000</td>\n",
       "      <td>0.0</td>\n",
       "      <td>1st</td>\n",
       "      <td>91109.0</td>\n",
       "      <td>4836.0</td>\n",
       "      <td>PANGASINAN</td>\n",
       "      <td>CALASIAO</td>\n",
       "    </tr>\n",
       "    <tr>\n",
       "      <th>3</th>\n",
       "      <td>3</td>\n",
       "      <td>55170022</td>\n",
       "      <td>REGION I</td>\n",
       "      <td>PANGASINAN</td>\n",
       "      <td>CALASIAO</td>\n",
       "      <td>BUENLAG</td>\n",
       "      <td>768</td>\n",
       "      <td>650</td>\n",
       "      <td>15517000</td>\n",
       "      <td>0.0</td>\n",
       "      <td>1st</td>\n",
       "      <td>91109.0</td>\n",
       "      <td>4836.0</td>\n",
       "      <td>PANGASINAN</td>\n",
       "      <td>CALASIAO</td>\n",
       "    </tr>\n",
       "    <tr>\n",
       "      <th>4</th>\n",
       "      <td>4</td>\n",
       "      <td>55170025</td>\n",
       "      <td>REGION I</td>\n",
       "      <td>PANGASINAN</td>\n",
       "      <td>CALASIAO</td>\n",
       "      <td>BUENLAG</td>\n",
       "      <td>787</td>\n",
       "      <td>662</td>\n",
       "      <td>15517000</td>\n",
       "      <td>0.0</td>\n",
       "      <td>1st</td>\n",
       "      <td>91109.0</td>\n",
       "      <td>4836.0</td>\n",
       "      <td>PANGASINAN</td>\n",
       "      <td>CALASIAO</td>\n",
       "    </tr>\n",
       "  </tbody>\n",
       "</table>\n",
       "</div>"
      ],
      "text/plain": [
       "   Unnamed: 0  precinct_code    region    province municipality barangay  \\\n",
       "0           0       55170026  REGION I  PANGASINAN     CALASIAO  BUENLAG   \n",
       "1           1       55170027  REGION I  PANGASINAN     CALASIAO  BUENLAG   \n",
       "2           2       55170023  REGION I  PANGASINAN     CALASIAO  BUENLAG   \n",
       "3           3       55170022  REGION I  PANGASINAN     CALASIAO  BUENLAG   \n",
       "4           4       55170025  REGION I  PANGASINAN     CALASIAO  BUENLAG   \n",
       "\n",
       "   registered_voters  ballots_cast   PSGC_CM  is_city income_class  \\\n",
       "0                592           503  15517000      0.0          1st   \n",
       "1                526           458  15517000      0.0          1st   \n",
       "2                723           649  15517000      0.0          1st   \n",
       "3                768           650  15517000      0.0          1st   \n",
       "4                787           662  15517000      0.0          1st   \n",
       "\n",
       "   population  land_area province_CM municipality_CM  \n",
       "0     91109.0     4836.0  PANGASINAN        CALASIAO  \n",
       "1     91109.0     4836.0  PANGASINAN        CALASIAO  \n",
       "2     91109.0     4836.0  PANGASINAN        CALASIAO  \n",
       "3     91109.0     4836.0  PANGASINAN        CALASIAO  \n",
       "4     91109.0     4836.0  PANGASINAN        CALASIAO  "
      ]
     },
     "execution_count": 9,
     "metadata": {},
     "output_type": "execute_result"
    }
   ],
   "source": [
    "df_precinct.head()"
   ]
  },
  {
   "cell_type": "markdown",
   "metadata": {},
   "source": [
    "### 2. Check data columns"
   ]
  },
  {
   "cell_type": "code",
   "execution_count": 13,
   "metadata": {},
   "outputs": [
    {
     "name": "stdout",
     "output_type": "stream",
     "text": [
      "<class 'pandas.core.frame.DataFrame'>\n",
      "RangeIndex: 90642 entries, 0 to 90641\n",
      "Data columns (total 15 columns):\n",
      "Unnamed: 0           90642 non-null int64\n",
      "precinct_code        90642 non-null int64\n",
      "region               90642 non-null object\n",
      "province             90642 non-null object\n",
      "municipality         90642 non-null object\n",
      "barangay             90642 non-null object\n",
      "registered_voters    90642 non-null int64\n",
      "ballots_cast         90642 non-null int64\n",
      "PSGC_CM              90642 non-null object\n",
      "is_city              90642 non-null float64\n",
      "income_class         90159 non-null object\n",
      "population           58644 non-null float64\n",
      "land_area            90159 non-null float64\n",
      "province_CM          90642 non-null object\n",
      "municipality_CM      90642 non-null object\n",
      "dtypes: float64(3), int64(4), object(8)\n",
      "memory usage: 10.4+ MB\n"
     ]
    }
   ],
   "source": [
    "df_precinct.info()"
   ]
  },
  {
   "cell_type": "markdown",
   "metadata": {},
   "source": [
    "### 3. Check for null values"
   ]
  },
  {
   "cell_type": "markdown",
   "metadata": {},
   "source": [
    "The precinct data has no missing/ null values for the `precinct_code`, `region`, `province`, `municipality`, and `barangay` columns."
   ]
  },
  {
   "cell_type": "code",
   "execution_count": 15,
   "metadata": {},
   "outputs": [
    {
     "data": {
      "text/plain": [
       "Unnamed: 0               0\n",
       "precinct_code            0\n",
       "region                   0\n",
       "province                 0\n",
       "municipality             0\n",
       "barangay                 0\n",
       "registered_voters        0\n",
       "ballots_cast             0\n",
       "PSGC_CM                  0\n",
       "is_city                  0\n",
       "income_class           483\n",
       "population           31998\n",
       "land_area              483\n",
       "province_CM              0\n",
       "municipality_CM          0\n",
       "dtype: int64"
      ]
     },
     "execution_count": 15,
     "metadata": {},
     "output_type": "execute_result"
    }
   ],
   "source": [
    "df_precinct.isnull().sum()"
   ]
  },
  {
   "cell_type": "markdown",
   "metadata": {},
   "source": [
    "### 4. Checking for uniqueness and duplicates"
   ]
  },
  {
   "cell_type": "code",
   "execution_count": 24,
   "metadata": {},
   "outputs": [
    {
     "data": {
      "text/plain": [
       "Unnamed: 0           90642\n",
       "precinct_code        90642\n",
       "region                  19\n",
       "province                90\n",
       "municipality          1454\n",
       "barangay             26402\n",
       "registered_voters      771\n",
       "ballots_cast           793\n",
       "PSGC_CM               1634\n",
       "is_city                  3\n",
       "income_class            14\n",
       "population            1481\n",
       "land_area             1576\n",
       "province_CM             90\n",
       "municipality_CM       1446\n",
       "dtype: int64"
      ]
     },
     "execution_count": 24,
     "metadata": {},
     "output_type": "execute_result"
    }
   ],
   "source": [
    "df_precinct.nunique(axis=0, dropna=True)"
   ]
  },
  {
   "cell_type": "markdown",
   "metadata": {},
   "source": [
    "### Check unique values of Region"
   ]
  },
  {
   "cell_type": "code",
   "execution_count": 30,
   "metadata": {},
   "outputs": [
    {
     "data": {
      "text/plain": [
       "['ARMM',\n",
       " 'CAR',\n",
       " 'NCR',\n",
       " 'NIR',\n",
       " 'OAV',\n",
       " 'REGION I',\n",
       " 'REGION II',\n",
       " 'REGION III',\n",
       " 'REGION IV-A',\n",
       " 'REGION IV-B',\n",
       " 'REGION IX',\n",
       " 'REGION V',\n",
       " 'REGION VI',\n",
       " 'REGION VII',\n",
       " 'REGION VIII',\n",
       " 'REGION X',\n",
       " 'REGION XI',\n",
       " 'REGION XII',\n",
       " 'REGION XIII']"
      ]
     },
     "execution_count": 30,
     "metadata": {},
     "output_type": "execute_result"
    }
   ],
   "source": [
    "sorted(df_precinct['region'].unique())"
   ]
  },
  {
   "cell_type": "code",
   "execution_count": 29,
   "metadata": {},
   "outputs": [
    {
     "data": {
      "text/plain": [
       "['ABRA',\n",
       " 'AGUSAN DEL NORTE',\n",
       " 'AGUSAN DEL SUR',\n",
       " 'AKLAN',\n",
       " 'ALBAY',\n",
       " 'ANTIQUE',\n",
       " 'APAYAO',\n",
       " 'ASIA',\n",
       " 'AURORA',\n",
       " 'BASILAN',\n",
       " 'BATAAN',\n",
       " 'BATANES',\n",
       " 'BATANGAS',\n",
       " 'BENGUET',\n",
       " 'BILIRAN',\n",
       " 'BOHOL',\n",
       " 'BUKIDNON',\n",
       " 'BULACAN',\n",
       " 'CAGAYAN',\n",
       " 'CAMARINES NORTE',\n",
       " 'CAMARINES SUR',\n",
       " 'CAMIGUIN',\n",
       " 'CAPIZ',\n",
       " 'CATANDUANES',\n",
       " 'CAVITE',\n",
       " 'CEBU',\n",
       " 'COMPOSTELA VALLEY',\n",
       " 'COTABATO (NORTH COT.)',\n",
       " 'DAVAO (DAVAO DEL NORTE)',\n",
       " 'DAVAO DEL SUR',\n",
       " 'DAVAO OCCIDENTAL',\n",
       " 'DAVAO ORIENTAL',\n",
       " 'DINAGAT ISLANDS',\n",
       " 'EASTERN SAMAR',\n",
       " 'EUROPE',\n",
       " 'GUIMARAS',\n",
       " 'IFUGAO',\n",
       " 'ILOCOS NORTE',\n",
       " 'ILOCOS SUR',\n",
       " 'ILOILO',\n",
       " 'ISABELA',\n",
       " 'KALINGA',\n",
       " 'LA UNION',\n",
       " 'LAGUNA',\n",
       " 'LANAO DEL NORTE',\n",
       " 'LANAO DEL SUR',\n",
       " 'LEYTE',\n",
       " 'MAGUINDANAO',\n",
       " 'MARINDUQUE',\n",
       " 'MASBATE',\n",
       " 'MIDDLE EAST AND AFRICAS',\n",
       " 'MISAMIS OCCIDENTAL',\n",
       " 'MISAMIS ORIENTAL',\n",
       " 'MOUNTAIN PROVINCE',\n",
       " 'NATIONAL CAPITAL REGION - FOURTH DISTRICT',\n",
       " 'NATIONAL CAPITAL REGION - MANILA',\n",
       " 'NATIONAL CAPITAL REGION - SECOND DISTRICT',\n",
       " 'NATIONAL CAPITAL REGION - THIRD DISTRICT',\n",
       " 'NEGROS OCCIDENTAL',\n",
       " 'NEGROS ORIENTAL',\n",
       " 'NORTH AND LATIN AMERICA',\n",
       " 'NORTHERN SAMAR',\n",
       " 'NUEVA ECIJA',\n",
       " 'NUEVA VIZCAYA',\n",
       " 'OCCIDENTAL MINDORO',\n",
       " 'ORIENTAL MINDORO',\n",
       " 'PALAWAN',\n",
       " 'PAMPANGA',\n",
       " 'PANGASINAN',\n",
       " 'QUEZON',\n",
       " 'QUIRINO',\n",
       " 'RIZAL',\n",
       " 'ROMBLON',\n",
       " 'SAMAR (WESTERN SAMAR)',\n",
       " 'SARANGANI',\n",
       " 'SIQUIJOR',\n",
       " 'SORSOGON',\n",
       " 'SOUTH COTABATO',\n",
       " 'SOUTHERN LEYTE',\n",
       " 'SULTAN KUDARAT',\n",
       " 'SULU',\n",
       " 'SURIGAO DEL NORTE',\n",
       " 'SURIGAO DEL SUR',\n",
       " 'TAGUIG - PATEROS',\n",
       " 'TARLAC',\n",
       " 'TAWI-TAWI',\n",
       " 'ZAMBALES',\n",
       " 'ZAMBOANGA DEL NORTE',\n",
       " 'ZAMBOANGA DEL SUR',\n",
       " 'ZAMBOANGA SIBUGAY']"
      ]
     },
     "execution_count": 29,
     "metadata": {},
     "output_type": "execute_result"
    }
   ],
   "source": [
    "sorted(df_precinct['province'].unique())"
   ]
  },
  {
   "cell_type": "markdown",
   "metadata": {},
   "source": [
    "## Questions\n",
    "\n",
    "1. Which regions/provinces do block voting; i,e, vote for the President and Vice President candidate from the same party?"
   ]
  },
  {
   "cell_type": "code",
   "execution_count": null,
   "metadata": {},
   "outputs": [],
   "source": []
  }
 ],
 "metadata": {
  "kernelspec": {
   "display_name": "Python 3",
   "language": "python",
   "name": "python3"
  },
  "language_info": {
   "codemirror_mode": {
    "name": "ipython",
    "version": 3
   },
   "file_extension": ".py",
   "mimetype": "text/x-python",
   "name": "python",
   "nbconvert_exporter": "python",
   "pygments_lexer": "ipython3",
   "version": "3.7.3"
  }
 },
 "nbformat": 4,
 "nbformat_minor": 2
}
